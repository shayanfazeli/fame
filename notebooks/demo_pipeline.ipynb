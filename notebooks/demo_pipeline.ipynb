{
 "cells": [
  {
   "cell_type": "code",
   "execution_count": 3,
   "id": "a612cdab-765a-494b-bf62-5c5f7c79158d",
   "metadata": {},
   "outputs": [
    {
     "name": "stderr",
     "output_type": "stream",
     "text": [
      "/Users/mednet_machine/my_venvs/fame/lib/python3.8/site-packages/gensim/similarities/__init__.py:15: UserWarning: The gensim.similarities.levenshtein submodule is disabled, because the optional Levenshtein package <https://pypi.org/project/python-Levenshtein/> is unavailable. Install Levenhstein (e.g. `pip install python-Levenshtein`) to suppress this warning.\n",
      "  warnings.warn(msg)\n"
     ]
    }
   ],
   "source": [
    "from typing import List, Tuple\n",
    "import random\n",
    "import os, sys\n",
    "sys.path.append(os.path.abspath('..'))\n",
    "\n",
    "from tqdm import tqdm\n",
    "import gensim\n",
    "from sklearn.feature_extraction.text import TfidfVectorizer\n",
    "from sklearn.cluster import KMeans\n",
    "import numpy\n",
    "import torch\n",
    "import torch.nn\n",
    "from sentence_transformers import SentenceTransformer\n",
    "\n",
    "from fame.text_processing.text_processor import TextProcessor\n",
    "from fame.text_processing.token_processor import TokenProcessor\n",
    "from fame.topic_modeling.cortex.model.autoencoder import MLPAutoEncoder\n",
    "from fame.topic_modeling.cortex.pipeline.bert_lda import TransformerLDATopicModelingPipeline"
   ]
  },
  {
   "cell_type": "code",
   "execution_count": 4,
   "id": "bc229e01-c38d-4490-ad2a-afb0afcebc43",
   "metadata": {},
   "outputs": [],
   "source": [
    "number_of_lda_topics = 10"
   ]
  },
  {
   "cell_type": "code",
   "execution_count": 5,
   "id": "2f4f32a1-08e7-40ee-9220-634d61e074aa",
   "metadata": {},
   "outputs": [],
   "source": [
    "autoencoder = MLPAutoEncoder(\n",
    "    input_output_dim = 768 + number_of_lda_topics,\n",
    "    hidden_layers = [512, 64, 32]\n",
    ")"
   ]
  },
  {
   "cell_type": "code",
   "execution_count": 6,
   "id": "d25d8799-fe34-4010-85ee-4fd6a93bc4ed",
   "metadata": {},
   "outputs": [],
   "source": [
    "pipeline = TransformerLDATopicModelingPipeline(\n",
    "    autoencoder=autoencoder\n",
    ")"
   ]
  },
  {
   "cell_type": "code",
   "execution_count": 7,
   "id": "2f1ede07-2f33-47e3-bbae-4adfa991940c",
   "metadata": {},
   "outputs": [],
   "source": [
    "sample_corpus = []\n",
    "\n",
    "for _ in range(200):\n",
    "    sample_corpus += [\"that is idiotic funny up\", \"i wanted to tell you this is wrong my friend\"]"
   ]
  },
  {
   "cell_type": "code",
   "execution_count": 8,
   "id": "440bd096-8592-4938-baf7-f308d4b9ff85",
   "metadata": {},
   "outputs": [
    {
     "name": "stderr",
     "output_type": "stream",
     "text": [
      "100%|██████████| 400/400 [00:00<00:00, 1367.38it/s]\n"
     ]
    }
   ],
   "source": [
    "preprocessed_text_list, preprocessed_tokens_list, indices = pipeline.preprocess_and_get_text_and_tokens(text_list=sample_corpus)"
   ]
  },
  {
   "cell_type": "code",
   "execution_count": 9,
   "id": "85143917-4eb0-4f19-82ec-7d8435a7bb63",
   "metadata": {},
   "outputs": [],
   "source": [
    "pipeline.prepare_lda_model(tokens_list=preprocessed_tokens_list)"
   ]
  },
  {
   "cell_type": "code",
   "execution_count": 10,
   "id": "cb0efef3-6c58-4d20-bc6d-796fc405f57d",
   "metadata": {},
   "outputs": [],
   "source": [
    "reps = pipeline.get_stacked_representations(\n",
    "    text_list=preprocessed_text_list, \n",
    "    tokens_list=preprocessed_tokens_list)"
   ]
  },
  {
   "cell_type": "code",
   "execution_count": 11,
   "id": "99945e13-74f2-4112-99c0-0cd568f1d2fd",
   "metadata": {},
   "outputs": [
    {
     "data": {
      "text/plain": [
       "(400, 778)"
      ]
     },
     "execution_count": 11,
     "metadata": {},
     "output_type": "execute_result"
    }
   ],
   "source": [
    "reps.shape"
   ]
  },
  {
   "cell_type": "code",
   "execution_count": 12,
   "id": "1fa556f5-c392-48d1-910b-94a3a2311825",
   "metadata": {},
   "outputs": [
    {
     "name": "stderr",
     "output_type": "stream",
     "text": [
      "Epoch: 4 / Loss: 0.17547624558210373: 100%|██████████| 5/5 [00:00<00:00,  6.42it/s]\n"
     ]
    },
    {
     "data": {
      "text/plain": [
       "[1.1813539266586304,\n",
       " 0.5059151686728001,\n",
       " 0.31697307527065277,\n",
       " 0.23842306435108185,\n",
       " 0.17547624558210373]"
      ]
     },
     "execution_count": 12,
     "metadata": {},
     "output_type": "execute_result"
    }
   ],
   "source": [
    "pipeline.prepare_autoencoder(\n",
    "    text_list=preprocessed_text_list,\n",
    "    tokens_list=preprocessed_tokens_list,\n",
    "    number_of_epochs=5,\n",
    "    batch_size=56,\n",
    "    shuffle=True\n",
    ")"
   ]
  },
  {
   "cell_type": "code",
   "execution_count": 13,
   "id": "c025e86a-e600-43f9-9e18-65a76f31c3ef",
   "metadata": {},
   "outputs": [
    {
     "name": "stderr",
     "output_type": "stream",
     "text": [
      "100%|██████████| 1/1 [00:00<00:00, 676.17it/s]\n"
     ]
    }
   ],
   "source": [
    "preprocessed_text_list, preprocessed_tokens_list, indices = pipeline.preprocess_and_get_text_and_tokens([\"this is a new one\"])"
   ]
  },
  {
   "cell_type": "code",
   "execution_count": 14,
   "id": "7aeb03cf-4fa3-46d4-92e3-61562241b694",
   "metadata": {},
   "outputs": [],
   "source": [
    "reps = pipeline.get_stacked_representations(text_list = preprocessed_text_list, tokens_list=preprocessed_tokens_list)"
   ]
  },
  {
   "cell_type": "code",
   "execution_count": 15,
   "id": "0bbd9ae7-0864-4379-894f-c0d138c80875",
   "metadata": {},
   "outputs": [
    {
     "data": {
      "text/plain": [
       "(1, 778)"
      ]
     },
     "execution_count": 15,
     "metadata": {},
     "output_type": "execute_result"
    }
   ],
   "source": [
    "reps.shape"
   ]
  },
  {
   "cell_type": "code",
   "execution_count": 18,
   "id": "6695d43f-dc93-482c-96f7-2cffcf3d70f4",
   "metadata": {},
   "outputs": [],
   "source": [
    "pipeline.train_clustering(numpy.random.rand(5, 778))"
   ]
  },
  {
   "cell_type": "code",
   "execution_count": 19,
   "id": "67d3a907-a4f1-4ecd-8bcf-9467eeac89ca",
   "metadata": {},
   "outputs": [
    {
     "data": {
      "text/plain": [
       "array([0, 1, 1, 0, 4], dtype=int32)"
      ]
     },
     "execution_count": 19,
     "metadata": {},
     "output_type": "execute_result"
    }
   ],
   "source": [
    "pipeline.label_representation_cluster(numpy.random.rand(5, 778))"
   ]
  }
 ],
 "metadata": {
  "kernelspec": {
   "display_name": "Python 3",
   "language": "python",
   "name": "python3"
  },
  "language_info": {
   "codemirror_mode": {
    "name": "ipython",
    "version": 3
   },
   "file_extension": ".py",
   "mimetype": "text/x-python",
   "name": "python",
   "nbconvert_exporter": "python",
   "pygments_lexer": "ipython3",
   "version": "3.8.2"
  }
 },
 "nbformat": 4,
 "nbformat_minor": 5
}
